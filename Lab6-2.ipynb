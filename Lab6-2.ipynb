{
 "cells": [
  {
   "cell_type": "code",
   "execution_count": 5,
   "metadata": {},
   "outputs": [
    {
     "name": "stdout",
     "output_type": "stream",
     "text": [
      "ชื่อ Peerapat\n",
      "เงินเดือน 5000.00\n",
      "เวลา 30\n",
      "ค่าล่วงเวลา 30\n",
      "รวมเป็นเวลาทั้งสิ้น 8000\n"
     ]
    }
   ],
   "source": [
    "def calculate_payroll(name, salary, ot):\n",
    "    if(ot>=40):\n",
    "        money_ot=ot*150\n",
    "    else:\n",
    "        money_ot=ot*100\n",
    "    k = salary + money_ot\n",
    "    print(\"ชื่อ %s\" % name)\n",
    "    print(\"เงินเดือน %.2f\" % salary)\n",
    "    print(\"เวลา %d\" % ot)\n",
    "    print(\"ค่าล่วงเวลา %d\" % ot)\n",
    "    print(\"รวมเป็นเวลาทั้งสิ้น %d\" % k)\n",
    "    \n",
    "n = input(\"ชื่อพนักงาน:\")\n",
    "s = int(input(\"เงินเดือนพนักงาน:\"))\n",
    "o = int(input(\"ค่าล่วงเวลา:\"))\n",
    "\n",
    "calculate_payroll(n, s, o)\n",
    "\n",
    "\n",
    "\n",
    "\n",
    "\n",
    "\n",
    "    "
   ]
  }
 ],
 "metadata": {
  "kernelspec": {
   "display_name": "Python 3",
   "language": "python",
   "name": "python3"
  },
  "language_info": {
   "codemirror_mode": {
    "name": "ipython",
    "version": 3
   },
   "file_extension": ".py",
   "mimetype": "text/x-python",
   "name": "python",
   "nbconvert_exporter": "python",
   "pygments_lexer": "ipython3",
   "version": "3.12.4"
  }
 },
 "nbformat": 4,
 "nbformat_minor": 2
}
